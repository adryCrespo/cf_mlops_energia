{
 "cells": [
  {
   "cell_type": "code",
   "execution_count": 2,
   "metadata": {},
   "outputs": [],
   "source": [
    "\n",
    "import pandas as pd\n",
    "\n",
    "path_data = \"data/procesamiento.csv\"\n",
    "df = pd.read_csv(path_data)\n",
    "\n",
    "var_unique_years = df.year.unique().tolist()\n",
    "tmp_path_data = path_data.replace(\".csv\",\"\")\n",
    "\n",
    "for year in var_unique_years:\n",
    "    df_tmp = df.query(f\"year == {year}\")\n",
    "    df_tmp.to_csv(f\"{tmp_path_data}_{year}.csv\",index=False)"
   ]
  }
 ],
 "metadata": {
  "kernelspec": {
   "display_name": "emlflow",
   "language": "python",
   "name": "python3"
  },
  "language_info": {
   "codemirror_mode": {
    "name": "ipython",
    "version": 3
   },
   "file_extension": ".py",
   "mimetype": "text/x-python",
   "name": "python",
   "nbconvert_exporter": "python",
   "pygments_lexer": "ipython3",
   "version": "3.12.4"
  }
 },
 "nbformat": 4,
 "nbformat_minor": 2
}
